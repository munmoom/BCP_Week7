{
  "nbformat": 4,
  "nbformat_minor": 0,
  "metadata": {
    "colab": {
      "name": "Untitled39.ipynb",
      "provenance": [],
      "authorship_tag": "ABX9TyPZRLJsQDo1YGZVUnSavN31",
      "include_colab_link": true
    },
    "kernelspec": {
      "name": "python3",
      "display_name": "Python 3"
    },
    "language_info": {
      "name": "python"
    }
  },
  "cells": [
    {
      "cell_type": "markdown",
      "metadata": {
        "id": "view-in-github",
        "colab_type": "text"
      },
      "source": [
        "<a href=\"https://colab.research.google.com/github/munmoom/BCP_Week7/blob/main/4-1-202255127.ipynb\" target=\"_parent\"><img src=\"https://colab.research.google.com/assets/colab-badge.svg\" alt=\"Open In Colab\"/></a>"
      ]
    },
    {
      "cell_type": "code",
      "execution_count": 47,
      "metadata": {
        "colab": {
          "base_uri": "https://localhost:8080/",
          "height": 245
        },
        "id": "liYz1_-0V1rn",
        "outputId": "e11835ad-e4e5-42e8-bccc-b174ed6ba6f1"
      },
      "outputs": [
        {
          "output_type": "error",
          "ename": "IndexError",
          "evalue": "ignored",
          "traceback": [
            "\u001b[0;31m---------------------------------------------------------------------------\u001b[0m",
            "\u001b[0;31mIndexError\u001b[0m                                Traceback (most recent call last)",
            "\u001b[0;32m<ipython-input-47-ec7cb7502381>\u001b[0m in \u001b[0;36m<module>\u001b[0;34m()\u001b[0m\n\u001b[1;32m      6\u001b[0m \u001b[0;32mfor\u001b[0m \u001b[0mrow\u001b[0m \u001b[0;32min\u001b[0m \u001b[0mlist1\u001b[0m\u001b[0;34m:\u001b[0m\u001b[0;34m\u001b[0m\u001b[0;34m\u001b[0m\u001b[0m\n\u001b[1;32m      7\u001b[0m   \u001b[0;32mfor\u001b[0m \u001b[0mk\u001b[0m \u001b[0;32min\u001b[0m \u001b[0mrange\u001b[0m\u001b[0;34m(\u001b[0m\u001b[0;36m0\u001b[0m\u001b[0;34m,\u001b[0m\u001b[0;36m12\u001b[0m\u001b[0;34m)\u001b[0m\u001b[0;34m:\u001b[0m\u001b[0;34m\u001b[0m\u001b[0;34m\u001b[0m\u001b[0m\n\u001b[0;32m----> 8\u001b[0;31m    \u001b[0;32mif\u001b[0m \u001b[0mrow\u001b[0m\u001b[0;34m[\u001b[0m\u001b[0;36m0\u001b[0m\u001b[0;34m]\u001b[0m\u001b[0;34m[\u001b[0m\u001b[0;36m5\u001b[0m\u001b[0;34m]\u001b[0m \u001b[0;34m==\u001b[0m \u001b[0;34m'7'\u001b[0m\u001b[0;34m:\u001b[0m\u001b[0;34m\u001b[0m\u001b[0;34m\u001b[0m\u001b[0m\n\u001b[0m\u001b[1;32m      9\u001b[0m       \u001b[0mrow\u001b[0m\u001b[0;34m=\u001b[0m\u001b[0mrow\u001b[0m\u001b[0;34m.\u001b[0m\u001b[0mrstrip\u001b[0m\u001b[0;34m(\u001b[0m\u001b[0;34m)\u001b[0m\u001b[0;34m\u001b[0m\u001b[0;34m\u001b[0m\u001b[0m\n\u001b[1;32m     10\u001b[0m       \u001b[0mrow\u001b[0m\u001b[0;34m=\u001b[0m\u001b[0mrow\u001b[0m\u001b[0;34m.\u001b[0m\u001b[0msplit\u001b[0m\u001b[0;34m(\u001b[0m\u001b[0;34m)\u001b[0m\u001b[0;34m\u001b[0m\u001b[0;34m\u001b[0m\u001b[0m\n",
            "\u001b[0;31mIndexError\u001b[0m: string index out of range"
          ]
        }
      ],
      "source": [
        "f= open('/데이터.txt','r')\n",
        "list1 = f.read()\n",
        "list1 = list1.split('\\n')\n",
        "i=10\n",
        "\n",
        "for row in list1:\n",
        "  for k in range(0,12):\n",
        "   if row[5] == '7':\n",
        "      row=row.rstrip()\n",
        "      row=row.split()\n",
        "      row7=float(row[1])\n",
        "   elif row[5] == '8':\n",
        "      row=row.rstrip()\n",
        "      row=row.split()\n",
        "      row8=float(row[1])\n",
        "   elif row[5] == '1':\n",
        "      row=row.rstrip()\n",
        "      row=row.split()\n",
        "      row1=float(row[1])\n",
        "   elif row[5] == '2':\n",
        "      row=row.rstrip()\n",
        "      row=row.split()\n",
        "      row2=float(row[1])\n",
        "   ave= (row1 + row2)\n",
        "   ave /=2\n",
        "   av= (row7 + row8)\n",
        "   av /=2\n",
        "   print(f'20{i}   {ave}/{av}')\n",
        "   i=1+i\n"
      ]
    },
    {
      "cell_type": "code",
      "source": [
        "\n",
        "\n",
        "row = '201001   -28.3\\n'\n",
        "row=row.rstrip()\n",
        "row=row.split()\n",
        "row7=float(row[1])\n",
        "print(row7)\n"
      ],
      "metadata": {
        "colab": {
          "base_uri": "https://localhost:8080/"
        },
        "id": "POcVaknjWW4u",
        "outputId": "5748e675-7962-40f6-c0a9-acd0c7bcde14"
      },
      "execution_count": 17,
      "outputs": [
        {
          "output_type": "stream",
          "name": "stdout",
          "text": [
            "-28.3\n"
          ]
        }
      ]
    },
    {
      "cell_type": "code",
      "source": [
        "f= open('/데이터.txt','r')\n",
        "list1 = f.read()\n",
        "list1 = list1.split('\\n')\n",
        "\n",
        "for row in list1:\n",
        " if row[5] == '8':\n",
        "      row=row.rstrip()\n",
        "      row=row.split()\n",
        "      row8=float(row[1])\n",
        "      print(row8)"
      ],
      "metadata": {
        "colab": {
          "base_uri": "https://localhost:8080/"
        },
        "id": "PAxuiRioZPUs",
        "outputId": "6a91ee5a-e17e-4ce9-b39c-2f020677eb35"
      },
      "execution_count": 31,
      "outputs": [
        {
          "output_type": "stream",
          "name": "stdout",
          "text": [
            "5.6\n",
            "5.2\n",
            "7.0\n",
            "3.2\n",
            "2.9\n",
            "3.4\n",
            "3.1\n",
            "4.5\n",
            "2.1\n",
            "5.4\n"
          ]
        }
      ]
    },
    {
      "cell_type": "code",
      "source": [
        ""
      ],
      "metadata": {
        "id": "Kk6NLI6SfTBK"
      },
      "execution_count": null,
      "outputs": []
    }
  ]
}