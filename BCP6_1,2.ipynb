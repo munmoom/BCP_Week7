{
  "nbformat": 4,
  "nbformat_minor": 0,
  "metadata": {
    "colab": {
      "name": "BCP6-1,2.ipynb",
      "provenance": [],
      "authorship_tag": "ABX9TyNZXMHhydsSB3fpNT25xAty",
      "include_colab_link": true
    },
    "kernelspec": {
      "name": "python3",
      "display_name": "Python 3"
    },
    "language_info": {
      "name": "python"
    }
  },
  "cells": [
    {
      "cell_type": "markdown",
      "metadata": {
        "id": "view-in-github",
        "colab_type": "text"
      },
      "source": [
        "<a href=\"https://colab.research.google.com/github/munmoom/BCP_Week7/blob/main/BCP6_1%2C2.ipynb\" target=\"_parent\"><img src=\"https://colab.research.google.com/assets/colab-badge.svg\" alt=\"Open In Colab\"/></a>"
      ]
    },
    {
      "cell_type": "markdown",
      "source": [
        "6-1"
      ],
      "metadata": {
        "id": "1Jfj1ekrHl2Y"
      }
    },
    {
      "cell_type": "code",
      "execution_count": 2,
      "metadata": {
        "id": "jBO3MSM14Weu",
        "colab": {
          "resources": {
            "http://localhost:8080/nbextensions/google.colab/files.js": {
              "data": "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",
              "ok": true,
              "headers": [
                [
                  "content-type",
                  "application/javascript"
                ]
              ],
              "status": 200,
              "status_text": ""
            }
          },
          "base_uri": "https://localhost:8080/",
          "height": 115
        },
        "outputId": "62604005-c8a6-4ea4-de3e-ac68dd303150"
      },
      "outputs": [
        {
          "output_type": "display_data",
          "data": {
            "text/plain": [
              "<IPython.core.display.HTML object>"
            ],
            "text/html": [
              "\n",
              "     <input type=\"file\" id=\"files-1998ca8b-a633-4256-9698-70b1ecb215d3\" name=\"files[]\" multiple disabled\n",
              "        style=\"border:none\" />\n",
              "     <output id=\"result-1998ca8b-a633-4256-9698-70b1ecb215d3\">\n",
              "      Upload widget is only available when the cell has been executed in the\n",
              "      current browser session. Please rerun this cell to enable.\n",
              "      </output>\n",
              "      <script src=\"/nbextensions/google.colab/files.js\"></script> "
            ]
          },
          "metadata": {}
        },
        {
          "output_type": "stream",
          "name": "stdout",
          "text": [
            "Saving 강의자료2.txt to 강의자료2.txt\n"
          ]
        },
        {
          "output_type": "execute_result",
          "data": {
            "text/plain": [
              "{'강의자료2.txt': b\"\\xec\\x9c\\x84\\xec\\xb9\\x98 \\xeb\\xb2\\xa1\\xed\\x84\\xb0- \\xec\\x86\\x8c\\xeb\\xac\\xb8\\xec\\x9e\\x90\\xeb\\xa1\\x9c \\xec\\x93\\xb0\\xeb\\x8a\\x94 \\xec\\x98\\x88\\xec\\x99\\xb8\\r\\n2, 3\\xec\\xb0\\xa8\\xec\\x9b\\x90 \\xeb\\xaa\\xa8\\xeb\\x91\\x90\\xeb\\xa1\\x9c \\xeb\\x82\\x98\\xed\\x83\\x80\\xeb\\x82\\xbc \\xec\\x88\\x98 \\xec\\x9e\\x88\\xec\\x9d\\x8c.\\r\\n\\r\\n\\r\\ni, j\\xeb\\x8a\\x94 \\xec\\xa7\\x81\\xea\\xb0\\x81\\xec\\xa2\\x8c\\xed\\x91\\x9c\\xea\\xb3\\x84\\r\\n\\xea\\xb7\\xb9\\xec\\xa2\\x8c\\xed\\x91\\x9c\\xea\\xb3\\x84\\xec\\x97\\x90\\xec\\x84\\x9c\\xeb\\x8a\\x94 r, \\xec\\x84\\xb8\\xed\\x83\\x80 \\xec\\x9c\\x84\\xec\\x97\\x90 \\xec\\x82\\xbf\\xea\\xb0\\x93^\\r\\n\\xec\\x9c\\xa0\\xeb\\x8b\\x9b\\xeb\\xb2\\xa1\\xed\\x84\\xb0unit vector\\r\\n\\xec\\x99\\x80 \\xeb\\x8b\\xa4\\xeb\\xa5\\xbc\\xea\\xb9\\x8c?\\r\\n3\\xec\\xb0\\xa8\\xec\\x9b\\x90\\xea\\xb9\\x8c\\xec\\xa7\\x80 \\xec\\x9e\\x88\\xeb\\x8a\\x94\\xeb\\x8d\\xb0 i, j, k(\\xec\\xa7\\x81\\xea\\xb0\\x81\\xec\\xa2\\x8c\\xed\\x91\\x9c\\xea\\xb3\\x84) \\xec\\x97\\x90\\xeb\\x8b\\xa4 \\xeb\\x8b\\xa4\\xeb\\xa5\\xb8 \\xec\\xa2\\x8c\\xed\\x91\\x9c\\xea\\xb3\\x84\\xea\\xb9\\x8c\\xec\\xa7\\x80 \\xec\\x83\\x88 \\xec\\x9d\\xb4\\xeb\\xa6\\x84 \\xeb\\xb6\\x99\\xec\\x9d\\xb4\\xeb\\xa9\\xb4 \\xec\\x9d\\xb4\\xeb\\xa6\\x84\\xec\\x9d\\xb4 \\xeb\\xa7\\x8e\\xec\\x95\\x84\\xec\\xa0\\xb8\\xec\\x84\\x9c\\r\\n\\r\\n\\xec\\x84\\xb1\\xeb\\xb6\\x84\\xec\\x9c\\xbc\\xeb\\xa1\\x9c \\r\\n\\xeb\\xb2\\xa1\\xed\\x84\\xb0 A\\xec\\x9d\\x98 x\\xec\\x84\\xb1\\xeb\\xb6\\x84\\r\\n\\r\\n\\xec\\x9c\\xa0\\xeb\\x8b\\x9b\\xeb\\xb2\\xa1\\xed\\x84\\xb0 i, j\\r\\n\\r\\n\\xec\\x82\\xbc\\xec\\xb0\\xa8\\xec\\x9b\\x90\\xec\\x97\\x90\\xeb\\x8a\\x94 z, \\xec\\x9c\\xa0\\xeb\\x8b\\x9b\\xeb\\xb2\\xa1\\xed\\x84\\xb0k\\r\\n\\xec\\xa0\\x9c\\xea\\xb3\\xb1\\xed\\x95\\xb4\\xec\\x84\\x9c \\xeb\\x8d\\x94\\xed\\x95\\x98\\xeb\\x8a\\x94 \\xea\\xb1\\xb4 \\xea\\xb7\\xb9\\xec\\xa2\\x8c\\xed\\x91\\x9c\\xea\\xb3\\x84\\xec\\x99\\x80 \\xec\\xa7\\x81\\xea\\xb0\\x81\\xec\\xa2\\x8c\\xed\\x91\\x9c\\xea\\xb3\\x84 \\xec\\x82\\xac\\xec\\x9d\\xb4\\xec\\x9d\\x98 \\xea\\xb4\\x80\\xea\\xb3\\x84\\r\\n\\r\\ne\\xec\\x82\\xbf\\xea\\xb0\\x93\\xec\\x9d\\x80?\\r\\n1, 2, 3\\xeb\\xb2\\x88\\xed\\x98\\xb8 \\xeb\\xb6\\x99\\xec\\x97\\xac\\xec\\x84\\x9c \\xec\\x89\\xbd\\xea\\xb2\\x8c \\xed\\x91\\x9c\\xed\\x98\\x84\\xed\\x95\\x9c \\xec\\x9c\\xa0\\xeb\\x8b\\x9b\\xeb\\xb2\\xa1\\xed\\x84\\xb0\\r\\n\\xec\\xb0\\xb8\\xea\\xb3\\xa0\\xec\\x9a\\xa9, \\xeb\\x8f\\x84\\xec\\x9e\\x85\\xed\\x95\\xa0 \\xec\\x9d\\xbc\\xec\\x9d\\x80 \\xec\\x97\\x86\\xec\\x9d\\x8c(\\xec\\x9d\\xbc\\xeb\\xb0\\x98\\xeb\\xac\\xbc\\xeb\\xa6\\xac\\xec\\x97\\x90\\xec\\x84\\x9c)\\r\\n\\r\\n\\xeb\\xac\\xbc\\xeb\\xa6\\xac\\xeb\\x9f\\x89\\xec\\x97\\x90\\xeb\\x8a\\x94 \\xeb\\xb2\\xa1\\xed\\x84\\xb0\\xec\\x99\\x80 \\xec\\x8a\\xa4\\xec\\xb9\\xbc\\xeb\\x9d\\xbc\\r\\n\\xeb\\xb2\\xa1\\xed\\x84\\xb0 \\xed\\x91\\x9c\\xed\\x98\\x84\\xec\\x97\\x90 \\xec\\xa2\\x8c\\xed\\x91\\x9c\\xea\\xb3\\x84\\xea\\xb0\\x80 \\xed\\x8e\\xb8\\xeb\\xa6\\xac\\r\\n\\xeb\\xb2\\xa1\\xed\\x84\\xb0\\xeb\\x8a\\x94 \\xec\\x9c\\x84\\xec\\xb9\\x98\\xeb\\xa5\\xbc \\xed\\x91\\x9c\\xed\\x98\\x84\\xed\\x95\\x98\\xea\\xb8\\xb0 \\xec\\x9c\\x84\\xed\\x95\\xa8\\r\\n\\xec\\x8a\\xa4\\xec\\xb9\\xbc\\xeb\\x9d\\xbc\\xeb\\x8a\\x94 \\xeb\\xb3\\xb4\\xed\\x86\\xb5\\xec\\x9d\\x98 \\xeb\\x84\\x98\\xeb\\xb2\\x84\\xeb\\x93\\xa4\\r\\n\\r\\n\\t*Scalar: number \\xe2\\x86\\x92 Scalar function\\r\\n\\t*Vector: \\xed\\x81\\xac\\xea\\xb8\\xb0(number)+\\xeb\\xb0\\xa9\\xed\\x96\\xa5\\r\\n\\t\\xe2\\x86\\x92vector function\\r\\n\\t(function\\xec\\x9d\\x80 \\xed\\x95\\xa8\\xec\\x88\\x98)\\r\\n\\r\\n\\xeb\\xb2\\xa1\\xed\\x84\\xb0\\xec\\x9d\\x98 \\xec\\x84\\xb1\\xec\\xa7\\x88\\r\\n-\\xeb\\xb2\\xa1\\xed\\x84\\xb0\\xec\\x9d\\x98 \\xeb\\x8f\\x99\\xeb\\x93\\xb1\\xec\\x84\\xb1 (Equality of Tow Vectors)\\r\\n  \\xeb\\x91\\x90 \\xeb\\xb2\\xa1\\xed\\x84\\xb0 A\\xec\\x99\\x80 B\\xea\\xb0\\x80 \\xeb\\x8f\\x99\\xeb\\x93\\xb1\\xe2\\x86\\x92\\xed\\x81\\xac\\xea\\xb8\\xb0\\xea\\xb0\\x80 \\xea\\xb0\\x99\\xea\\xb3\\xa0 \\xeb\\xb0\\xa9\\xed\\x96\\xa5\\xec\\x9d\\xb4 \\xea\\xb0\\x99\\xec\\x9d\\x8c-only if-\\xea\\xb0\\x81\\xea\\xb0\\x81\\xec\\x9d\\x98 \\xec\\x84\\xb1\\xeb\\xb6\\x84\\xec\\x9d\\xb4 \\xea\\xb0\\x99\\xec\\x95\\x84\\xec\\x95\\xbc \\xed\\x95\\x9c\\xeb\\x8b\\xa4\\r\\n  (\\xed\\x99\\x94\\xec\\x82\\xb4\\xed\\x91\\x9c\\xec\\x9d\\x98 \\xea\\xb8\\xb8\\xec\\x9d\\xb4\\xec\\x99\\x80 \\xeb\\xb0\\xa9\\xed\\x96\\xa5\\xe2\\x86\\x92\\xeb\\xb2\\xa1\\xed\\x84\\xb0\\xeb\\xa5\\xbc \\xec\\x9b\\x80\\xec\\xa7\\x81\\xec\\x9d\\xbc \\xec\\x88\\x98\\xeb\\x8a\\x94 \\xec\\x9e\\x88\\xec\\x9c\\xbc\\xeb\\x82\\x98 \\xed\\x81\\xac\\xea\\xb8\\xb0\\xeb\\x82\\x98 \\xeb\\xb0\\xa9\\xed\\x96\\xa5\\xec\\x9d\\x80 \\xeb\\xb3\\x80\\xed\\x99\\x94\\xec\\x8b\\x9c\\xed\\x82\\xac \\xec\\x88\\x98 \\xec\\x97\\x86\\xeb\\x8b\\xa4)\\r\\n\\t\\xe2\\x86\\x92<\\xeb\\xb2\\xa1\\xed\\x84\\xb0\\xeb\\x8a\\x94 \\xed\\x8f\\x89\\xed\\x96\\x89\\xec\\x9d\\xb4\\xeb\\x8f\\x99\\xec\\x8b\\x9c\\xed\\x82\\xac \\xec\\x88\\x98 \\xec\\x9e\\x88\\xeb\\x8b\\xa4>\\r\\n(\\xeb\\xb2\\xa1\\xed\\x84\\xb0 \\xec\\x97\\xb0\\xec\\x82\\xb0\\xec\\x97\\x90 \\xed\\x95\\x84\\xec\\x9a\\x94)\\r\\n\\r\\n\\r\\nzero(Null) vector\\r\\n\\xed\\x95\\x9c \\xeb\\xb2\\xa1\\xed\\x84\\xb0\\xec\\x97\\x90 \\xeb\\xad\\x94\\xea\\xb0\\x80\\xeb\\xa5\\xbc \\xeb\\x8d\\x94\\xed\\x96\\x88\\xeb\\x8a\\x94\\xeb\\x8d\\xb0 \\xec\\x9e\\x90\\xea\\xb8\\xb0\\xec\\x9e\\x90\\xec\\x8b\\xa0\\xec\\x9d\\xb4 \\xeb\\x90\\x98\\xec\\x97\\x88\\xec\\x9d\\x8c.\\r\\n\\xeb\\x8f\\x99\\xeb\\x93\\xb1\\xed\\x95\\x9c \\xea\\xb2\\x83\\xeb\\x81\\xbc\\xeb\\xa6\\xac \\xeb\\x8d\\x94\\xed\\x95\\xa0 \\xec\\x88\\x98 \\xec\\x9e\\x88\\xeb\\x8b\\xa4. (vector\\xeb\\x81\\xbc\\xeb\\xa6\\xac)\\r\\n\\xe2\\x86\\x92  \\xe2\\x86\\x92    \\xe2\\x86\\x92\\r\\nA +(0) = A\\r\\n\\r\\n(\\xec\\x98\\x81\\xeb\\xb2\\xa1\\xed\\x84\\xb0\\xeb\\x8a\\x94 \\xec\\xa0\\x90\\xec\\x9d\\xb4\\xeb\\x9d\\xbc \\xeb\\xaa\\xa8\\xeb\\x93\\xa0 \\xeb\\xb0\\xa9\\xed\\x96\\xa5\\xec\\x9d\\xb4 \\xeb\\xb0\\xa9\\xed\\x96\\xa5\\xec\\x9d\\xb4 \\xeb\\x90\\xa0 \\xec\\x88\\x98 \\xec\\x9e\\x88\\xec\\x96\\xb4 \\xeb\\x8f\\x85\\xed\\x8a\\xb9, \\xeb\\xb2\\xa1\\xed\\x84\\xb0\\xeb\\xa1\\x9c \\xed\\x91\\x9c\\xed\\x98\\x84\\xed\\x95\\x9c \\xea\\xb1\\xb4 \\xec\\x83\\x81\\xec\\xa7\\x95\\xec\\xa0\\x81 \\xec\\x9d\\x98\\xeb\\xaf\\xb8)\\r\\n\\xec\\xa0\\x9c\\xeb\\xa1\\x9c\\xeb\\xb2\\xa1\\xed\\x84\\xb0\\xeb\\x8a\\x94 \\xec\\x8a\\xa4\\xec\\xb9\\xbc\\xeb\\x9d\\xbc\\xec\\x9d\\x98 \\xed\\x95\\xad\\xeb\\x93\\xb1\\xec\\x9b\\x90\\xea\\xb3\\xbc \\xea\\xb0\\x99\\xec\\x9d\\x80 \\xea\\xb0\\x9c\\xeb\\x85\\x90\\r\\n\\r\\n\\r\\nInverse vector (\\xec\\x97\\xad \\xeb\\xb2\\xa1\\xed\\x84\\xb0)\\r\\n\\xe2\\x86\\x92    \\xe2\\x86\\x92    \\xe2\\x86\\x92\\r\\nA +(-A) = 0\\r\\n  \\xe2\\x86\\x92   \\xe2\\x86\\x92\\r\\n-A \\xeb\\x8a\\x94 A\\xec\\x9d\\x98 inverse vector\\r\\n\\xeb\\xb2\\xa1\\xed\\x84\\xb0\\xeb\\x8a\\x94 \\xec\\x9d\\xbc\\xeb\\xb0\\x98\\xec\\xa0\\x81\\xec\\x9c\\xbc\\xeb\\xa1\\x9c \\xed\\x95\\x9c \\xec\\xa0\\x90\\xec\\x97\\x90\\xec\\x84\\x9c \\xed\\x95\\x9c \\xec\\xa0\\x90\\xea\\xb9\\x8c\\xec\\xa7\\x80\\xec\\x9d\\x98 \\xea\\xb1\\xb0\\xeb\\xa6\\xac\\r\\n\\xea\\xb1\\xb0\\xeb\\xa6\\xac\\xea\\xb0\\x80 '-'\\xeb\\x90\\xa0 \\xec\\x88\\x98\\xeb\\x8a\\x94 \\xec\\x97\\x86\\xec\\x9c\\xbc\\xeb\\xaf\\x80\\xeb\\xa1\\x9c \\xeb\\xb0\\x98\\xeb\\x93\\x9c\\xec\\x8b\\x9c \\xeb\\xb0\\xa9\\xed\\x96\\xa5\\xec\\x97\\x90 '-'\\xeb\\xb6\\x80\\xea\\xb3\\xbc\\r\\n\\t           \\xe2\\x86\\x92    \\xe2\\x86\\x92\\r\\n\\t[[\\xed\\x81\\xac\\xea\\xb8\\xb0: lAl=l-Al]] (180\\xeb\\x8f\\x84 \\xec\\x97\\xad\\xec\\xa0\\x84)\\r\\n\\t[[\\xeb\\xb0\\xa9\\xed\\x96\\xa5: \\xeb\\xb0\\x98\\xeb\\x8c\\x80\\xeb\\xb0\\xa9\\xed\\x96\\xa5]]\\r\\n\\r\\n\\r\\n\\r\\n<Scalar>\\r\\n*\\xed\\x95\\xad\\xeb\\x93\\xb1\\xec\\x9b\\x90 : \\xeb\\x8d\\x94\\xed\\x95\\x98\\xea\\xb8\\xb0 \\xec\\x97\\xb0\\xec\\x82\\xb0\\xec\\x97\\x90 \\xeb\\x8c\\x80\\xed\\x95\\x9c \\xed\\x95\\xad\\xeb\\x93\\xb1\\xec\\x9b\\x900\\r\\n a(\\xec\\x8a\\xa4\\xec\\xb9\\xbc\\xeb\\x9d\\xbc) + ( 0 ) = a\\r\\n\\r\\n*\\xec\\x97\\xad\\xec\\x9b\\x90 : \\xeb\\x8d\\x94\\xed\\x95\\x98\\xea\\xb8\\xb0 \\xec\\x97\\xb0\\xec\\x82\\xb0\\xec\\x97\\x90 \\xeb\\x8c\\x80\\xed\\x95\\x9c \\xec\\x97\\xad\\xec\\x9b\\x90 -a\\r\\n a(\\xec\\x8a\\xa4\\xec\\xb9\\xbc\\xeb\\x9d\\xbc) + ( -a  ) = 0\\r\\n\\r\\n\\r\\n\\xeb\\x8d\\x94\\xed\\x95\\x98\\xea\\xb8\\xb0, \\xeb\\xb9\\xbc\\xea\\xb8\\xb0, \\xea\\xb3\\xb1\\xed\\x95\\x98\\xea\\xb8\\xb0\\r\\n\\r\\n-\\xea\\xb8\\xb0\\xed\\x95\\x98\\xed\\x95\\x99\\xec\\xa0\\x81\\xec\\x9c\\xbc\\xeb\\xa1\\x9c \\xed\\x91\\x9c\\xed\\x98\\x84\\r\\n-\\xec\\x84\\xb1\\xeb\\xb6\\x84\\xec\\x9c\\xbc\\xeb\\xa1\\x9c \\xed\\x91\\x9c\\xed\\x98\\x84\\r\\n\"}"
            ]
          },
          "metadata": {},
          "execution_count": 2
        }
      ],
      "source": [
        "from google.colab import files\n",
        "files.upload()"
      ]
    },
    {
      "cell_type": "code",
      "source": [
        "from google.colab import files\n",
        "files.download(\"강의자료2.txt\")"
      ],
      "metadata": {
        "colab": {
          "base_uri": "https://localhost:8080/",
          "height": 17
        },
        "id": "LSiW04GZ6GBJ",
        "outputId": "ec950983-e1d7-49ed-a397-764c23ca471e"
      },
      "execution_count": 5,
      "outputs": [
        {
          "output_type": "display_data",
          "data": {
            "text/plain": [
              "<IPython.core.display.Javascript object>"
            ],
            "application/javascript": [
              "\n",
              "    async function download(id, filename, size) {\n",
              "      if (!google.colab.kernel.accessAllowed) {\n",
              "        return;\n",
              "      }\n",
              "      const div = document.createElement('div');\n",
              "      const label = document.createElement('label');\n",
              "      label.textContent = `Downloading \"${filename}\": `;\n",
              "      div.appendChild(label);\n",
              "      const progress = document.createElement('progress');\n",
              "      progress.max = size;\n",
              "      div.appendChild(progress);\n",
              "      document.body.appendChild(div);\n",
              "\n",
              "      const buffers = [];\n",
              "      let downloaded = 0;\n",
              "\n",
              "      const channel = await google.colab.kernel.comms.open(id);\n",
              "      // Send a message to notify the kernel that we're ready.\n",
              "      channel.send({})\n",
              "\n",
              "      for await (const message of channel.messages) {\n",
              "        // Send a message to notify the kernel that we're ready.\n",
              "        channel.send({})\n",
              "        if (message.buffers) {\n",
              "          for (const buffer of message.buffers) {\n",
              "            buffers.push(buffer);\n",
              "            downloaded += buffer.byteLength;\n",
              "            progress.value = downloaded;\n",
              "          }\n",
              "        }\n",
              "      }\n",
              "      const blob = new Blob(buffers, {type: 'application/binary'});\n",
              "      const a = document.createElement('a');\n",
              "      a.href = window.URL.createObjectURL(blob);\n",
              "      a.download = filename;\n",
              "      div.appendChild(a);\n",
              "      a.click();\n",
              "      div.remove();\n",
              "    }\n",
              "  "
            ]
          },
          "metadata": {}
        },
        {
          "output_type": "display_data",
          "data": {
            "text/plain": [
              "<IPython.core.display.Javascript object>"
            ],
            "application/javascript": [
              "download(\"download_33db67b4-5e2a-41a3-a5c3-4757ec797099\", \"\\uac15\\uc758\\uc790\\ub8cc2.txt\", 2205)"
            ]
          },
          "metadata": {}
        }
      ]
    },
    {
      "cell_type": "markdown",
      "source": [
        "6-2"
      ],
      "metadata": {
        "id": "DjQVIWVCHopH"
      }
    },
    {
      "cell_type": "code",
      "source": [
        "f = open(\"food.txt\",'w')\n",
        "\n",
        "f.write('Pasta\\n')\n",
        "f.write('Pizza\\n')\n",
        "f.write('Hamburger\\n')\n",
        "\n",
        "f.close()"
      ],
      "metadata": {
        "id": "VJ7c5UpXHlRh"
      },
      "execution_count": 16,
      "outputs": []
    },
    {
      "cell_type": "code",
      "source": [
        "f = open(\"/content/food.txt\",'r')\n",
        "print(f.read())\n",
        "f.close()"
      ],
      "metadata": {
        "colab": {
          "base_uri": "https://localhost:8080/"
        },
        "id": "v49DByi8JuEj",
        "outputId": "589da12f-5e6c-499a-c668-edd8129e50fc"
      },
      "execution_count": 19,
      "outputs": [
        {
          "output_type": "stream",
          "name": "stdout",
          "text": [
            "Pasta\n",
            "Pizza\n",
            "Hamburger\n",
            "Steak\n",
            "\n"
          ]
        }
      ]
    },
    {
      "cell_type": "code",
      "source": [
        "f = open(\"food.txt\",'a')\n",
        "\n",
        "f.write('Steak\\n')\n",
        "\n",
        "f.close()\n",
        "\n"
      ],
      "metadata": {
        "id": "jlNBRZ2wJWcl"
      },
      "execution_count": 18,
      "outputs": []
    },
    {
      "cell_type": "code",
      "source": [
        "f = open(\"food.txt\",'r')\n",
        "print(f.readline(),end='')\n",
        "print(f.readline())\n",
        "f.close()"
      ],
      "metadata": {
        "colab": {
          "base_uri": "https://localhost:8080/"
        },
        "id": "lNUYy6BPLKvy",
        "outputId": "552b6b45-6d66-4fda-9ab1-accb16573c1a"
      },
      "execution_count": 22,
      "outputs": [
        {
          "output_type": "stream",
          "name": "stdout",
          "text": [
            "Pasta\n",
            "Pizza\n",
            "\n"
          ]
        }
      ]
    },
    {
      "cell_type": "code",
      "source": [
        "f = open(\"food.txt\",'r')\n",
        "print(f.readlines(),end='')\n",
        "f.close()"
      ],
      "metadata": {
        "colab": {
          "base_uri": "https://localhost:8080/"
        },
        "id": "5D2JtOXwLZe2",
        "outputId": "0b12fff7-fb4a-4390-a303-73634b936e7e"
      },
      "execution_count": 23,
      "outputs": [
        {
          "output_type": "stream",
          "name": "stdout",
          "text": [
            "['Pasta\\n', 'Pizza\\n', 'Hamburger\\n', 'Steak\\n']"
          ]
        }
      ]
    },
    {
      "cell_type": "code",
      "source": [
        "with open(\"food.txt\",'r') as f:\n",
        " print(f.read())"
      ],
      "metadata": {
        "colab": {
          "base_uri": "https://localhost:8080/"
        },
        "id": "mYotZ0NPLpOm",
        "outputId": "db259c3d-add2-4cd2-c0a0-55621567c72d"
      },
      "execution_count": 26,
      "outputs": [
        {
          "output_type": "stream",
          "name": "stdout",
          "text": [
            "Pasta\n",
            "Pizza\n",
            "Hamburger\n",
            "Steak\n",
            "\n"
          ]
        }
      ]
    },
    {
      "cell_type": "code",
      "source": [
        "with open(\"food.txt\",'r') as f:\n",
        "  ln = 1\n",
        "  for line in f:\n",
        "    print(f\"{ln}: {line}\", end='')\n",
        "    ln +=1"
      ],
      "metadata": {
        "colab": {
          "base_uri": "https://localhost:8080/"
        },
        "id": "k02zqwH8MQ3G",
        "outputId": "b36fd177-c074-4821-a9c9-a6527541767a"
      },
      "execution_count": 32,
      "outputs": [
        {
          "output_type": "stream",
          "name": "stdout",
          "text": [
            "1: Pasta\n",
            "2: Pizza\n",
            "3: Hamburger\n",
            "4: Steak\n"
          ]
        }
      ]
    }
  ]
}